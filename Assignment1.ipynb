{
 "cells": [
  {
   "cell_type": "code",
   "execution_count": 17,
   "id": "1de7af22",
   "metadata": {},
   "outputs": [
    {
     "name": "stdout",
     "output_type": "stream",
     "text": [
      "AoA - Please Enter Your total experience in years for the company ?6\n",
      "Please Enter Your total current Salary in Rs ?100\n",
      "Congratulations - Your Salary has been increased by 5%. Your New Salary is - Rs  105.0\n"
     ]
    }
   ],
   "source": [
    "# Q-1\n",
    "emp_experience = float(input(\"AoA - Please Enter Your total experience in years for the company ?\" ))\n",
    "emp_salary = float(input(\"Please Enter Your total current Salary in Rs ?\"))\n",
    "if emp_experience > 5:\n",
    "    print(\"Congratulations - Your Salary has been increased by 5%. Your New Salary is - Rs \", emp_salary*1.05)\n",
    "    \n",
    "else:\n",
    "    print(\"Your total experience is less than 5 years. Your salary is - Rs \", emp_salary)\n",
    "  "
   ]
  },
  {
   "cell_type": "code",
   "execution_count": 18,
   "id": "400763b9",
   "metadata": {},
   "outputs": [
    {
     "name": "stdout",
     "output_type": "stream",
     "text": [
      "AoA - Dear Voter, Please enter your current age i in years?11\n",
      "Sorry you are less than 17 years of age. You can vote only when you are more than 17 years of age\n"
     ]
    }
   ],
   "source": [
    "# Q-2\n",
    "voter_age = float(input(\"AoA - Dear Voter, Please enter your current age i in years?\"))\n",
    "if voter_age > 17:\n",
    "    print(\"COngratulations - You are eligible for voting\")\n",
    "else:\n",
    "    print(\"Sorry you are less than 17 years of age. You can vote only when you are more than 17 years of age\")\n",
    "    "
   ]
  },
  {
   "cell_type": "code",
   "execution_count": 3,
   "id": "592e89ba",
   "metadata": {},
   "outputs": [
    {
     "name": "stdout",
     "output_type": "stream",
     "text": [
      "AoA - Dear user, Please enter any number?2\n",
      "The number you entered is an Even number. Thanks\n"
     ]
    }
   ],
   "source": [
    "# Q-3\n",
    "numTOcheck = int(input(\"AoA - Dear user, Please enter any number?\"))\n",
    "if numTOcheck%2 == 0:\n",
    "    print(\"The number you entered is an Even number. Thanks\")\n",
    "else:\n",
    "    print(\"The number you entered is an Odd number. Thanks\")\n"
   ]
  },
  {
   "cell_type": "code",
   "execution_count": 5,
   "id": "1c9f4695",
   "metadata": {},
   "outputs": [
    {
     "name": "stdout",
     "output_type": "stream",
     "text": [
      "AoA - Dear user, Please enter any number?14\n",
      "The number you entered is divisible by seven. Thanks\n"
     ]
    }
   ],
   "source": [
    "# Q-4\n",
    "numTOcheckfor7 = int(input(\"AoA - Dear user, Please enter any number?\"))\n",
    "if numTOcheckfor7%7 == 0:\n",
    "    print(\"The number you entered is divisible by seven. Thanks\")\n",
    "else:\n",
    "    print(\"The number you entered is NOT divisible by seven. Thanks\")\n",
    "\n"
   ]
  },
  {
   "cell_type": "code",
   "execution_count": 7,
   "id": "60294b93",
   "metadata": {},
   "outputs": [
    {
     "name": "stdout",
     "output_type": "stream",
     "text": [
      "AoA - Dear user, Please enter any number?4\n",
      "The number you entered is NOT a multiple of five. Thanks\n"
     ]
    }
   ],
   "source": [
    "# Q-5\n",
    "numTOcheckfor5 = int(input(\"AoA - Dear user, Please enter any number?\"))\n",
    "if numTOcheckfor5%5 == 0:\n",
    "    print(\"Hello - The number you entered is a multiple of five. Thanks\")\n",
    "else:\n",
    "    print(\"Bye - The number you entered is NOT a multiple of five. Thanks\")\n"
   ]
  },
  {
   "cell_type": "code",
   "execution_count": 14,
   "id": "980f56f4",
   "metadata": {},
   "outputs": [
    {
     "name": "stdout",
     "output_type": "stream",
     "text": [
      "AoA - Dear user, Please enter any whole number?-9\n",
      "The number you entered is divisible by three. Thanks\n"
     ]
    }
   ],
   "source": [
    "# Q-8\n",
    "numTOcheckfor3 = int(input(\"AoA - Dear user, Please enter any whole number?\"))\n",
    "if abs(numTOcheckfor3)%3 == 0:\n",
    "    print(\"The number you entered is divisible by three. Thanks\")\n",
    "else:\n",
    "    print(\"The number you entered is NOT divisible by three. Thanks\")"
   ]
  },
  {
   "cell_type": "code",
   "execution_count": 19,
   "id": "ce2b4a32",
   "metadata": {},
   "outputs": [
    {
     "name": "stdout",
     "output_type": "stream",
     "text": [
      "AoA - Dear user, Please enter any number?98\n",
      "The Last digit of the number you entered is :- '8'\n"
     ]
    }
   ],
   "source": [
    "# Q-7\n",
    "checkLASTdigit = input(\"AoA - Dear user, Please enter any number?\")\n",
    "print(\"The Last digit of the number you entered is :-\", repr(checkLASTdigit[-1]))\n"
   ]
  },
  {
   "cell_type": "code",
   "execution_count": 21,
   "id": "7a621ed8",
   "metadata": {},
   "outputs": [
    {
     "name": "stdout",
     "output_type": "stream",
     "text": [
      "AoA - Dear user, Please enter the Length of the rectangle?77\n",
      "AoA - Dear user, Please enter the Breadth of the rectangle?77\n",
      "The shape is a SQUARE. Thanks\n"
     ]
    }
   ],
   "source": [
    "# Q-9\n",
    "length = int(input(\"AoA - Dear user, Please enter the Length of the rectangle?\"))\n",
    "breadth = int(input(\"AoA - Dear user, Please enter the Breadth of the rectangle?\"))\n",
    "if length == breadth:\n",
    "    print(\"The shape is a SQUARE. Thanks\")\n",
    "else:\n",
    "    print(\"The shape is a RECTANGLE. Thanks\")"
   ]
  },
  {
   "cell_type": "code",
   "execution_count": 27,
   "id": "1fee95fd",
   "metadata": {},
   "outputs": [
    {
     "name": "stdout",
     "output_type": "stream",
     "text": [
      "AoA - Dear user, Please enter the FIRST number?4\n",
      "AoA - Dear user, Please enter the SECOND number?4\n",
      "Both the values are equal :  4\n"
     ]
    }
   ],
   "source": [
    "# Q-10\n",
    "value1 = int(input(\"AoA - Dear user, Please enter the FIRST number?\"))\n",
    "value2 = int(input(\"AoA - Dear user, Please enter the SECOND number?\"))\n",
    "if value1 > value2:\n",
    "    print(\"The bigger value is : \", value1)\n",
    "elif value1 == value2:\n",
    "    print(\"Both the values are equal : \", value2)\n",
    "else:\n",
    "    print(\"OK The bigger value is : \", value2)"
   ]
  },
  {
   "cell_type": "code",
   "execution_count": 29,
   "id": "c95ae11b",
   "metadata": {},
   "outputs": [
    {
     "name": "stdout",
     "output_type": "stream",
     "text": [
      "AoA - Dear user, Please enter the quantity of units you purchased from this store?99\n",
      "Congratulations, you got a discount of 10% from the store. Your total amount is : Rs   8910.0\n"
     ]
    }
   ],
   "source": [
    "# Q-11\n",
    "purchase_quantity = float(input(\"AoA - Dear user, Please enter the quantity of units you purchased from this store?\"))\n",
    "purchase_val = purchase_quantity * 100\n",
    "if purchase_val > 1000:\n",
    "    print(\"Congratulations, you got a discount of 10% from the store. Your total amount is : Rs  \", purchase_val*0.9)\n",
    "elif purchase_val == 1000:\n",
    "    print(\"Please purchase more than 10 units to get a 10% discount. Your total Amount is : Rs  \", purchase_val)\n",
    "else:\n",
    "    print(\"Thanks  Please purchase more than 10 units to get a 10% discount. Your total Amount is : Rs  \", purchase_val)"
   ]
  },
  {
   "cell_type": "code",
   "execution_count": 32,
   "id": "efee8cb4",
   "metadata": {},
   "outputs": [
    {
     "name": "stdout",
     "output_type": "stream",
     "text": [
      "AoA - Dear Student, Please enter the marks you obtained? - Max Marks 100 - 999\n",
      "Please enter a value less than or equal to 100. You entered marks 999.0\n"
     ]
    }
   ],
   "source": [
    "# Q-12\n",
    "student_MARKS = float(input(\"AoA - Dear Student, Please enter the marks you obtained? - Max Marks 100 - \"))\n",
    "\n",
    "if student_MARKS <= 25:\n",
    "    print(\"Sorry your grade is: F. Your marks are : \", student_MARKS)\n",
    "elif student_MARKS > 25 and student_MARKS <= 45:\n",
    "    print(\"Your grade is: E. Your marks are : \", student_MARKS)\n",
    "elif student_MARKS > 45 and student_MARKS <= 50:\n",
    "    print(\"OK your grade is: D. Your marks are : \", student_MARKS)\n",
    "elif student_MARKS > 50 and student_MARKS <= 60:\n",
    "    print(\"Your grade is: C. Your marks are : \", student_MARKS)\n",
    "elif student_MARKS > 60 and student_MARKS <= 80:\n",
    "    print(\"Nice your grade is: B. Your marks are : \", student_MARKS)\n",
    "elif student_MARKS > 80 and student_MARKS <= 100:\n",
    "    print(\"Excellent your grade is: A. Your marks are : \", student_MARKS)\n",
    "else:\n",
    "    print(\"Please enter a value less than or equal to 100. You enter marks\", student_MARKS)"
   ]
  },
  {
   "cell_type": "code",
   "execution_count": 33,
   "id": "26c8de81",
   "metadata": {},
   "outputs": [
    {
     "name": "stdout",
     "output_type": "stream",
     "text": [
      "AoA - Dear Student, Please enter the total number of classes held in this module? - Max 100 - 100\n",
      "AoA - Dear Student, Please enter the total number of classes you attended? - Max 100 - 33\n",
      "Sorry you cannot attend exams as your attendance is less than 75%. Your attendance is :  33.0\n"
     ]
    }
   ],
   "source": [
    "# Q-14\n",
    "total_CLASSES = float(input(\"AoA - Dear Student, Please enter the total number of classes held in this module? - Max 100 - \"))\n",
    "student_ATTEND = float(input(\"AoA - Dear Student, Please enter the total number of classes you attended? - Max 100 - \"))\n",
    "\n",
    "\n",
    "if student_ATTEND/total_CLASSES < 0.75:\n",
    "    print(\"Sorry you cannot attend exams as your attendance is less than 75%. Your attendance % is : \", 100*student_ATTEND/total_CLASSES)\n",
    "else:\n",
    "    print(\"Congratulation. You can sit in exams. Your attnedance percentage is\", 100*student_ATTEND/total_CLASSES)"
   ]
  },
  {
   "cell_type": "code",
   "execution_count": 37,
   "id": "be5e4f00",
   "metadata": {},
   "outputs": [
    {
     "name": "stdout",
     "output_type": "stream",
     "text": [
      "AoA - Dear Student, Please enter the total number of classes held in this module? - Max 100 - 100\n",
      "AoA - Dear Student, Please enter the total number of classes you attended? - Max 100 - 77\n",
      "Please enter 1 if you have a serious medical condition or 0 if your medical condition is OK0\n",
      "Congratulation. You can sit in exams. Your attnedance percentage is 77.0 %\n"
     ]
    }
   ],
   "source": [
    "# Q-15\n",
    "total_CLASSES1 = float(input(\"AoA - Dear Student, Please enter the total number of classes held in this module? - Max 100 - \"))\n",
    "student_ATTEND1 = float(input(\"AoA - Dear Student, Please enter the total number of classes you attended? - Max 100 - \"))\n",
    "medical_CONDITION = int(input(\"Please enter 1 if you have a serious medical condition or 0 if your medical condition is OK \"))\n",
    "\n",
    "if medical_CONDITION == 0 and student_ATTEND1/total_CLASSES1 < 0.75:\n",
    "    print(\"Sorry you cannot attend exams as your attendance is less than 75%. Your attendance is : \", 100*student_ATTEND1/total_CLASSES1,\"%\")\n",
    "elif medical_CONDITION == 1 and student_ATTEND1/total_CLASSES1 < 0.75:\n",
    "    print(\"Your medical condition was not Ok. You may sit in exam. Your attendance is : \", 100*student_ATTEND1/total_CLASSES1,\"%\")\n",
    "    \n",
    "else:\n",
    "    print(\"Congratulation. You can sit in exams. Your attnedance percentage is\", 100*student_ATTEND1/total_CLASSES1,\"%\")"
   ]
  },
  {
   "cell_type": "code",
   "execution_count": 45,
   "id": "ff7584e3",
   "metadata": {},
   "outputs": [
    {
     "name": "stdout",
     "output_type": "stream",
     "text": [
      "Please enter your age? Min 20 and Max 80 \n",
      "99\n",
      "Please enter your gender. Male - m / Female - f : -\n",
      "f\n",
      "Please enter your maritial status. Married = 1 / unmarried = 0 : - \n",
      "1\n",
      "Error - Please enter an age between 20 and 80\n"
     ]
    }
   ],
   "source": [
    "# Q-17\n",
    "age = int(input(\"Please enter your age? Min 20 and Max 60 \\n\"))\n",
    "gen = input(\"Please enter your gender. Male - m / Female - f : -\\n\")\n",
    "mari_status = int(input(\"Please enter your maritial status. Married = 1 / unmarried = 0 : - \\n\"))\n",
    "if gen == \"f\" and age < 60:\n",
    "   print(\"Dear Employee, You will work in urban areas only.\")\n",
    "elif age > 20 and age < 40:\n",
    "   print(\"Dear Employee, You will work in RURAL areas only.\")\n",
    "elif age > 40 and age < 60:\n",
    "    print(\"Dear Employee you are a male. You will work in URBAN areas only.\")\n",
    "else:\n",
    "    print(\"Error - Please enter an age between 20 and 60\")   \n"
   ]
  },
  {
   "cell_type": "code",
   "execution_count": 50,
   "id": "d4d8777d",
   "metadata": {},
   "outputs": [
    {
     "name": "stdout",
     "output_type": "stream",
     "text": [
      "Please enter number of units of you electricitiy bill \n",
      "22\n",
      "Your units are less than 100. Your total bill is Rs 0. \n",
      "\n"
     ]
    }
   ],
   "source": [
    "# Q-6\n",
    "unit = int(input(\"Please enter number of units of you electricitiy bill \\n\"))\n",
    "if unit <= 100:\n",
    "    print(\"Your units are less than 100. Your total bill is Rs 0. \\n\")\n",
    "elif unit > 100 and unit <= 200:\n",
    "    print(\"Your units are more than 100 and less than or equal to 200. Your total bill is Rs \", unit*5, \"\\n\")\n",
    "else:\n",
    "    print(\"Your units are more than 200. Your total bill is Rs \", unit*10)"
   ]
  },
  {
   "cell_type": "code",
   "execution_count": 3,
   "id": "78b30313",
   "metadata": {},
   "outputs": [
    {
     "name": "stdout",
     "output_type": "stream",
     "text": [
      "Please input age of user 1 - \n",
      "22\n",
      "Please input age of user 2 - \n",
      "22\n",
      "Please input age of user 3 - \n",
      "22\n",
      "No Age difference OR cannot be determined\n"
     ]
    }
   ],
   "source": [
    "#Q-13\n",
    "a1 = int(input(\"Please input age of user 1 - \\n\"))\n",
    "a2 = int(input(\"Please input age of user 2 - \\n\"))\n",
    "a3 = int(input(\"Please input age of user 3 - \\n\"))\n",
    "if a1 > a2 > a3:\n",
    "    print(\"User 1 is the oldest. \\n User 3 is the youngest. \\n User 2 is in between age of User 1 and User 3\")\n",
    "elif a1 > a3 > a2:\n",
    "    print(\"User 1 is the oldest. \\n User 2 is the youngest. \\n User 3 is in between age of User 1 and User 2\")\n",
    "elif a2 > a1 > a3:\n",
    "    print(\"User 2 is the oldest. \\n User 3 is the youngest. \\n User 1 is in between age of User 3 and User 2\")\n",
    "elif a2 > a3 > a1:\n",
    "    print(\"User 2 is the oldest. \\n User 1 is the youngest. \\n User 3 is in between age of User 1 and User 2\")\n",
    "elif a3 > a1 > a2:\n",
    "    print(\"User 3 is the oldest. \\n User 2 is the youngest. \\n User 1 is in between age of User 3 and User 2\")\n",
    "elif a3 > a2 > a1:\n",
    "    print(\"User 3 is the oldest. \\n User 1 is the youngest. \\n User 2 is in between age of User 1 and User 3\")\n",
    "else:\n",
    "    print(\"No Age difference OR cannot be determined\")   "
   ]
  }
 ],
 "metadata": {
  "kernelspec": {
   "display_name": "Python 3 (ipykernel)",
   "language": "python",
   "name": "python3"
  },
  "language_info": {
   "codemirror_mode": {
    "name": "ipython",
    "version": 3
   },
   "file_extension": ".py",
   "mimetype": "text/x-python",
   "name": "python",
   "nbconvert_exporter": "python",
   "pygments_lexer": "ipython3",
   "version": "3.11.5"
  }
 },
 "nbformat": 4,
 "nbformat_minor": 5
}
